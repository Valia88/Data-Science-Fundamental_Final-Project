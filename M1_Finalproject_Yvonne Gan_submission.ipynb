{
 "cells": [
  {
   "cell_type": "markdown",
   "metadata": {},
   "source": [
    "# Question 1: Down payment calculation program "
   ]
  },
  {
   "cell_type": "markdown",
   "metadata": {},
   "source": [
    "<u><b>Test case:</u><br>\n",
    "User inputs:<br>\n",
    "annual_salary = 50000 <br>\n",
    "percent_savings = 0.5 <br>\n",
    "total_cost = 350000<br>"
   ]
  },
  {
   "cell_type": "code",
   "execution_count": 1,
   "metadata": {},
   "outputs": [
    {
     "name": "stdout",
     "output_type": "stream",
     "text": [
      "Enter the cost of your dream home: 350000\n",
      "Enter your annual salary: 50000\n",
      "Enter the monthly percentage of savings: 0.5\n",
      "The total months need to save for your dream home is 41.86\n"
     ]
    }
   ],
   "source": [
    "total_cost = float(input(\"Enter the cost of your dream home: \"))\n",
    "annual_salary = float(input(\"Enter your annual salary: \"))\n",
    "percent_down_payment = 0.25  #25%\n",
    "percent_savings = float(input(\"Enter the monthly percentage of savings: \"))\n",
    "current_savings = (annual_salary/12)*percent_savings\n",
    "r = 0.04   #4%\n",
    "monthly_returns = current_savings*(r/12)\n",
    "\n",
    "# print(current_savings)\n",
    "# print(monthly_returns)\n",
    "total_monthly_savings = current_savings + monthly_returns\n",
    "# print(total_monthly_savings)\n",
    "down_payment = total_cost*percent_down_payment\n",
    "# print(down_payment)\n",
    "\n",
    "total_months = down_payment/total_monthly_savings\n",
    "\n",
    "print(\"The total months need to save for your dream home is\",'%.2f'%total_months)\n"
   ]
  },
  {
   "cell_type": "markdown",
   "metadata": {},
   "source": [
    "# Question 2 – Decision Tree Simulation "
   ]
  },
  {
   "cell_type": "markdown",
   "metadata": {},
   "source": [
    "<u><b>There are total of 3 conditions (arguments) : </u><br>\n",
    "- fever, stuffy nose, rash <br>\n",
    "- make the arguments boolean types <br>\n",
    "\n",
    "<u><b>The conditions and diagnosis are:</u><br>\n",
    "    <u>Condition</u>\t           <u>Diagnosis</u><br>\n",
    "• No fever, no stuffy nose. \t\tHypochondriac<br>\n",
    "• No fever, stuffy nose. \t\t\tHead cold<br>\n",
    "• Fever, rash.\t\t \t\t        Measles<br>\n",
    "• Fever, no rash \t\t\t        Flu<br>"
   ]
  },
  {
   "cell_type": "markdown",
   "metadata": {},
   "source": [
    "<u><b>Test Case:</b></u> <br> \n",
    "all 4 cases, individually"
   ]
  },
  {
   "cell_type": "code",
   "execution_count": 2,
   "metadata": {},
   "outputs": [
    {
     "name": "stdout",
     "output_type": "stream",
     "text": [
      "Fever:No   Stuffy Nose:No   Diagnosis:Hypochondriac\n",
      "Fever:No   Stuffy Nose:Yes  Diagnosis:Head cold\n",
      "Fever:Yes  Rash:No          Diagnosis:Flu\n",
      "Fever:Yes  Rash:Yes         Diagnosis:Measles\n"
     ]
    }
   ],
   "source": [
    "# First Method\n",
    "\n",
    "def condition(fever,stuffy_nose,rash):\n",
    "    if fever == False:\n",
    "        if stuffy_nose == False:\n",
    "            print(\"Fever:No   Stuffy Nose:No   Diagnosis:Hypochondriac\")\n",
    "        elif stuffy_nose == True:\n",
    "            print(\"Fever:No   Stuffy Nose:Yes  Diagnosis:Head cold\")\n",
    "         \n",
    "    if fever == True:\n",
    "        if rash == False:\n",
    "            print(\"Fever:Yes  Rash:No          Diagnosis:Flu\")\n",
    "        elif rash == True:\n",
    "            print(\"Fever:Yes  Rash:Yes         Diagnosis:Measles\")\n",
    "\n",
    "# None or False both works for the not needed condition            \n",
    "\n",
    "condition(fever = False,stuffy_nose=False,rash=None)\n",
    "# condition(fever = False,stuffy_nose=True,rash=None)\n",
    "# condition(fever = True,stuffy_nose=None,rash=False)\n",
    "# condition(fever = True,stuffy_nose=None,rash=True)"
   ]
  },
  {
   "cell_type": "code",
   "execution_count": 3,
   "metadata": {
    "scrolled": true
   },
   "outputs": [
    {
     "name": "stdout",
     "output_type": "stream",
     "text": [
      "Fever:No   Stuffy Nose:No   Diagnosis:Hypochondriac\n",
      "Fever:No   Stuffy Nose:Yes  Diagnosis:Head cold\n",
      "Fever:Yes  Rash:No          Diagnosis:Flu\n",
      "Fever:Yes  Rash:Yes         Diagnosis:Measles\n"
     ]
    }
   ],
   "source": [
    "# Second Method\n",
    "\n",
    "def condition2(fever, stuffy_nose,rash):\n",
    "    if fever == False and stuffy_nose == False:\n",
    "        print(\"Fever:No   Stuffy Nose:No   Diagnosis:Hypochondriac\")\n",
    "    elif fever == False and stuffy_nose == True:\n",
    "        print(\"Fever:No   Stuffy Nose:Yes  Diagnosis:Head cold\")\n",
    "    elif fever == True and rash == False:\n",
    "        print(\"Fever:Yes  Rash:No          Diagnosis:Flu\")\n",
    "    elif fever == True and rash == True:\n",
    "        print(\"Fever:Yes  Rash:Yes         Diagnosis:Measles\")\n",
    "\n",
    "\n",
    "condition2(fever = False,stuffy_nose=False,rash=None)\n",
    "# condition2(fever = False,stuffy_nose=True,rash=None)\n",
    "# condition2(fever = True,stuffy_nose=None,rash=False)\n",
    "# condition2(fever = True,stuffy_nose=None,rash=True)"
   ]
  },
  {
   "cell_type": "markdown",
   "metadata": {},
   "source": [
    "# Question 03 – Looping and filtering a selected list "
   ]
  },
  {
   "cell_type": "markdown",
   "metadata": {},
   "source": [
    "Declare 3 lists:<br>\n",
    "list1 = [1,2,3,4,5]<br>\n",
    "list2 =  [11,12,13,14,15]<br>\n",
    "list3 = [21,22,23,24,25]<br>\n",
    "<br>\n",
    "Get user input on which list he wants to choose, by using a string input. <br>\n",
    "Eg. If user inputs list1, assign it as selected_list and use it for operations below.\n"
   ]
  },
  {
   "cell_type": "markdown",
   "metadata": {},
   "source": [
    "<u><b> Test Case</u></b><br>\n",
    "All 3 lists, individually\n"
   ]
  },
  {
   "cell_type": "code",
   "execution_count": 7,
   "metadata": {},
   "outputs": [
    {
     "name": "stdout",
     "output_type": "stream",
     "text": [
      "Please enter your list selection (list1, list2,list3):list3\n",
      "21\n",
      "23\n",
      "25\n",
      "[22, 24]\n"
     ]
    }
   ],
   "source": [
    "selected_list = input(\"Please enter your list selection (list1, list2,list3):\")\n",
    "\n",
    "list1 = [1,2,3,4,5]\n",
    "list2 = [11,12,13,14,15]\n",
    "list3 = [21,22,23,24,25]\n",
    "\n",
    "if selected_list == \"list1\":\n",
    "    for i in list1[::2]:\n",
    "        print(i)\n",
    "    num = list(filter(lambda x: x%2 == 0 ,list1))\n",
    "    print(num)\n",
    "    \n",
    "if selected_list == \"list2\":\n",
    "    for i in list2[::2]:\n",
    "        print(i)\n",
    "    num = list(filter(lambda x: x%2 == 0 ,list2))\n",
    "    print(num)\n",
    "        \n",
    "if selected_list == \"list3\":\n",
    "    for i in list3[::2]:\n",
    "        print(i)\n",
    "    num = list(filter(lambda x: x%2 == 0 ,list3))\n",
    "    print(num)\n"
   ]
  },
  {
   "cell_type": "markdown",
   "metadata": {},
   "source": [
    "# Question 4 - Vehicles and Motorbikes"
   ]
  },
  {
   "cell_type": "code",
   "execution_count": 8,
   "metadata": {},
   "outputs": [
    {
     "name": "stdout",
     "output_type": "stream",
     "text": [
      "I am being driven!\n"
     ]
    }
   ],
   "source": [
    "class Vehicle:\n",
    "    \n",
    "    def __init__(self,engine,tires):\n",
    "        self.engine = engine\n",
    "        self.tires = tires\n",
    "        \n",
    "    def drive(self):\n",
    "        print(\"I am being driven!\")\n",
    "        \n",
    "v1 = Vehicle(engine = \"A\", tires = 4)\n",
    "\n",
    "v1.drive()"
   ]
  },
  {
   "cell_type": "code",
   "execution_count": 9,
   "metadata": {},
   "outputs": [
    {
     "name": "stdout",
     "output_type": "stream",
     "text": [
      "I am being driven!\n",
      "I can seat 2 people!\n",
      "Person 1: Mike,Person 2: Peter\n"
     ]
    }
   ],
   "source": [
    "class Motorbike(Vehicle):\n",
    "    \n",
    "    def __init__(self,name,engine,tires):\n",
    "        self.name = name\n",
    "        self.engine = engine\n",
    "        self.tires = tires\n",
    "        \n",
    "    def seats(self):\n",
    "        print(\"I can seat 2 people!\")\n",
    "        \n",
    "v2 = Motorbike(name=\"Mike\",engine=\"B\", tires=2)\n",
    "v3 = Motorbike(name=\"Peter\",engine=\"C\", tires=2)\n",
    "\n",
    "v2.drive()\n",
    "v2.seats()\n",
    "\n",
    "print(\"Person 1: \" + v2.name + \",\" + \"Person 2: \"+ v3.name)"
   ]
  },
  {
   "cell_type": "markdown",
   "metadata": {},
   "source": [
    "# Question 4 BONUS Question"
   ]
  },
  {
   "cell_type": "markdown",
   "metadata": {},
   "source": [
    "Create a decorator that prints “this is a sedan” first and then the original function.  <br>\n",
    "Create a child class Sedan of parent class Vehicle. Define method seats to print “I am a seat”. <br>\n",
    "Wrap the decorator around the method seats, and call the newly decorated seats method for an object. <br>\n",
    " <br>\n",
    "Test case  <br>\n",
    "v4 = Sedan() <br>\n",
    "v4.seats() <br>\n",
    " <br>\n",
    "Output: <br>\n",
    "“this is a sedan” <br>\n",
    "“I am a seat” <br>\n"
   ]
  },
  {
   "cell_type": "code",
   "execution_count": 10,
   "metadata": {},
   "outputs": [
    {
     "name": "stdout",
     "output_type": "stream",
     "text": [
      "this is a sedan\n",
      "I am a seat\n"
     ]
    }
   ],
   "source": [
    "class Sedan(Vehicle):\n",
    "    \n",
    "    def decorator(func):\n",
    "\n",
    "        def wrapper_decorator(x):\n",
    "            print(\"this is a sedan\")\n",
    "            func(x)\n",
    "        return wrapper_decorator\n",
    "    \n",
    "    @decorator\n",
    "    def seats(self):\n",
    "        print(\"I am a seat\")\n",
    "        \n",
    "v4=Sedan(engine = \"D\", tires = 4)\n",
    "\n",
    "v4.seats()"
   ]
  }
 ],
 "metadata": {
  "kernelspec": {
   "display_name": "Python 3",
   "language": "python",
   "name": "python3"
  },
  "language_info": {
   "codemirror_mode": {
    "name": "ipython",
    "version": 3
   },
   "file_extension": ".py",
   "mimetype": "text/x-python",
   "name": "python",
   "nbconvert_exporter": "python",
   "pygments_lexer": "ipython3",
   "version": "3.7.6"
  }
 },
 "nbformat": 4,
 "nbformat_minor": 4
}
